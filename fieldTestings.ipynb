{
 "cells": [
  {
   "cell_type": "code",
   "execution_count": 3,
   "metadata": {},
   "outputs": [
    {
     "ename": "NameError",
     "evalue": "name 'screen' is not defined",
     "output_type": "error",
     "traceback": [
      "\u001b[1;31m---------------------------------------------------------------------------\u001b[0m",
      "\u001b[1;31mNameError\u001b[0m                                 Traceback (most recent call last)",
      "\u001b[1;32me:\\Code\\Cathedral\\cathedral-master\\fieldTestings.ipynb Zelle 1\u001b[0m in \u001b[0;36m<cell line: 3>\u001b[1;34m()\u001b[0m\n\u001b[0;32m      <a href='vscode-notebook-cell:/e%3A/Code/Cathedral/cathedral-master/fieldTestings.ipynb#W0sZmlsZQ%3D%3D?line=0'>1</a>\u001b[0m \u001b[39mimport\u001b[39;00m \u001b[39mpygame\u001b[39;00m\n\u001b[1;32m----> <a href='vscode-notebook-cell:/e%3A/Code/Cathedral/cathedral-master/fieldTestings.ipynb#W0sZmlsZQ%3D%3D?line=2'>3</a>\u001b[0m pygame\u001b[39m.\u001b[39mdraw\u001b[39m.\u001b[39mrect(screen, ROT, [\u001b[39m20\u001b[39m, \u001b[39m50\u001b[39m, \u001b[39m30\u001b[39m, \u001b[39m30\u001b[39m])\n",
      "\u001b[1;31mNameError\u001b[0m: name 'screen' is not defined"
     ]
    }
   ],
   "source": [
    "import pygame\n",
    "\n",
    "pygame.draw.rect(screen, ROT, [20, 50, 30, 30])\n"
   ]
  },
  {
   "cell_type": "markdown",
   "metadata": {},
   "source": []
  }
 ],
 "metadata": {
  "kernelspec": {
   "display_name": "Python 3.10.4 64-bit",
   "language": "python",
   "name": "python3"
  },
  "language_info": {
   "codemirror_mode": {
    "name": "ipython",
    "version": 3
   },
   "file_extension": ".py",
   "mimetype": "text/x-python",
   "name": "python",
   "nbconvert_exporter": "python",
   "pygments_lexer": "ipython3",
   "version": "3.10.4"
  },
  "orig_nbformat": 4,
  "vscode": {
   "interpreter": {
    "hash": "12dcd3c42cebf00fe2b37703d2e91e3fc51a1db754e29204822c94201714bf48"
   }
  }
 },
 "nbformat": 4,
 "nbformat_minor": 2
}
