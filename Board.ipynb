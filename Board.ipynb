{
 "cells": [
  {
   "cell_type": "code",
   "execution_count": 41,
   "metadata": {},
   "outputs": [
    {
     "name": "stdout",
     "output_type": "stream",
     "text": [
      "pygame 2.1.2 (SDL 2.0.18, Python 3.10.4)\n",
      "Hello from the pygame community. https://www.pygame.org/contribute.html\n"
     ]
    },
    {
     "ename": "KeyboardInterrupt",
     "evalue": "",
     "output_type": "error",
     "traceback": [
      "\u001b[1;31m---------------------------------------------------------------------------\u001b[0m",
      "\u001b[1;31mKeyboardInterrupt\u001b[0m                         Traceback (most recent call last)",
      "\u001b[1;32me:\\Code\\Cathedral\\cathedral-master\\Board.ipynb Zelle 1\u001b[0m in \u001b[0;36m<cell line: 58>\u001b[1;34m()\u001b[0m\n\u001b[0;32m     <a href='vscode-notebook-cell:/e%3A/Code/Cathedral/cathedral-master/Board.ipynb#W0sZmlsZQ%3D%3D?line=80'>81</a>\u001b[0m         pygame\u001b[39m.\u001b[39mdraw\u001b[39m.\u001b[39mrect(screen,\n\u001b[0;32m     <a href='vscode-notebook-cell:/e%3A/Code/Cathedral/cathedral-master/Board.ipynb#W0sZmlsZQ%3D%3D?line=81'>82</a>\u001b[0m                          color,\n\u001b[0;32m     <a href='vscode-notebook-cell:/e%3A/Code/Cathedral/cathedral-master/Board.ipynb#W0sZmlsZQ%3D%3D?line=82'>83</a>\u001b[0m                          [(MARGIN \u001b[39m+\u001b[39m WIDTH) \u001b[39m*\u001b[39m column \u001b[39m+\u001b[39m MARGIN,\n\u001b[0;32m     <a href='vscode-notebook-cell:/e%3A/Code/Cathedral/cathedral-master/Board.ipynb#W0sZmlsZQ%3D%3D?line=83'>84</a>\u001b[0m                           (MARGIN \u001b[39m+\u001b[39m HEIGHT) \u001b[39m*\u001b[39m row \u001b[39m+\u001b[39m MARGIN,\n\u001b[0;32m     <a href='vscode-notebook-cell:/e%3A/Code/Cathedral/cathedral-master/Board.ipynb#W0sZmlsZQ%3D%3D?line=84'>85</a>\u001b[0m                           WIDTH,\n\u001b[0;32m     <a href='vscode-notebook-cell:/e%3A/Code/Cathedral/cathedral-master/Board.ipynb#W0sZmlsZQ%3D%3D?line=85'>86</a>\u001b[0m                           HEIGHT])\n\u001b[0;32m     <a href='vscode-notebook-cell:/e%3A/Code/Cathedral/cathedral-master/Board.ipynb#W0sZmlsZQ%3D%3D?line=87'>88</a>\u001b[0m \u001b[39m# Limit to 60 frames per second\u001b[39;00m\n\u001b[1;32m---> <a href='vscode-notebook-cell:/e%3A/Code/Cathedral/cathedral-master/Board.ipynb#W0sZmlsZQ%3D%3D?line=88'>89</a>\u001b[0m clock\u001b[39m.\u001b[39;49mtick(\u001b[39m60\u001b[39;49m)\n\u001b[0;32m     <a href='vscode-notebook-cell:/e%3A/Code/Cathedral/cathedral-master/Board.ipynb#W0sZmlsZQ%3D%3D?line=90'>91</a>\u001b[0m \u001b[39m# Go ahead and update the screen with what we've drawn.\u001b[39;00m\n\u001b[0;32m     <a href='vscode-notebook-cell:/e%3A/Code/Cathedral/cathedral-master/Board.ipynb#W0sZmlsZQ%3D%3D?line=91'>92</a>\u001b[0m pygame\u001b[39m.\u001b[39mdisplay\u001b[39m.\u001b[39mflip()\n",
      "\u001b[1;31mKeyboardInterrupt\u001b[0m: "
     ]
    },
    {
     "ename": "",
     "evalue": "",
     "output_type": "error",
     "traceback": [
      "\u001b[1;31mDer Kernel ist beim Ausführen von Code in der aktuellen Zelle oder einer vorherigen Zelle abgestürzt. Bitte überprüfen Sie den Code in der/den Zelle(n), um eine mögliche Fehlerursache zu identifizieren. Klicken Sie <a href='https://aka.ms/vscodeJupyterKernelCrash'>hier</a>, um weitere Informationen zu erhalten. Weitere Details finden Sie in Jupyter <a href='command:jupyter.viewOutput'>log</a>."
     ]
    }
   ],
   "source": [
    "# Array-Backed Grids\n",
    "\"\"\"\n",
    " Example program to show using an array to back a grid on-screen.\n",
    " \n",
    " Sample Python/Pygame Programs\n",
    " Simpson College Computer Science\n",
    " http://programarcadegames.com/\n",
    " http://simpson.edu/computer-science/\n",
    " \n",
    " Explanation video: http://youtu.be/mdTeqiWyFnc\n",
    "\"\"\"\n",
    "import pygame\n",
    " \n",
    "# Define some colors\n",
    "BLACK = (0, 0, 0)\n",
    "WHITE = (255, 255, 255)\n",
    "GREEN = (0, 255, 0)\n",
    "RED = (255, 0, 0)\n",
    " \n",
    "# This sets the WIDTH and HEIGHT of each grid location\n",
    "WIDTH = 20\n",
    "HEIGHT = 20\n",
    " \n",
    "# This sets the margin between each cell\n",
    "MARGIN = 5\n",
    " \n",
    "# Create a 2 dimensional array. A two dimensional\n",
    "# array is simply a list of lists.\n",
    "grid = []\n",
    "for row in range(10):\n",
    "    # Add an empty array that will hold each cell\n",
    "    # in this row\n",
    "    grid.append([])\n",
    "    for column in range(10):\n",
    "        grid[row].append(0)  # Append a cell\n",
    " \n",
    "# Set row 1, cell 5 to one. (Remember rows and\n",
    "# column numbers start at zero.)\n",
    "grid[1][5] = 1\n",
    " \n",
    "# Initialize pygame\n",
    "pygame.init()\n",
    " \n",
    "# Set the HEIGHT and WIDTH of the screen\n",
    "WINDOW_SIZE = [255, 255]\n",
    "screen = pygame.display.set_mode(WINDOW_SIZE)\n",
    " \n",
    "# Set title of screen\n",
    "pygame.display.set_caption(\"Array Backed Grid\")\n",
    " \n",
    "# Loop until the user clicks the close button.\n",
    "done = False\n",
    " \n",
    "# Used to manage how fast the screen updates\n",
    "clock = pygame.time.Clock()\n",
    " \n",
    "# -------- Main Program Loop -----------\n",
    "while not done:\n",
    "    for event in pygame.event.get():  # User did something\n",
    "        if event.type == pygame.QUIT:  # If user clicked close\n",
    "            done = True  # Flag that we are done so we exit this loop\n",
    "        elif event.type == pygame.MOUSEBUTTONDOWN:\n",
    "            # User clicks the mouse. Get the position\n",
    "            pos = pygame.mouse.get_pos()\n",
    "            # Change the x/y screen coordinates to grid coordinates\n",
    "            column = pos[0] // (WIDTH + MARGIN)\n",
    "            row = pos[1] // (HEIGHT + MARGIN)\n",
    "            # Set that location to one\n",
    "            grid[row][column] = 1\n",
    "            print(\"Click \", pos, \"Grid coordinates: \", row, column)\n",
    " \n",
    "    # Set the screen background\n",
    "    screen.fill(BLACK)\n",
    " \n",
    "    # Draw the grid\n",
    "    for row in range(10):\n",
    "        for column in range(10):\n",
    "            color = WHITE\n",
    "            if grid[row][column] == 1:\n",
    "                color = GREEN\n",
    "            pygame.draw.rect(screen,\n",
    "                             color,\n",
    "                             [(MARGIN + WIDTH) * column + MARGIN,\n",
    "                              (MARGIN + HEIGHT) * row + MARGIN,\n",
    "                              WIDTH,\n",
    "                              HEIGHT])\n",
    " \n",
    "    # Limit to 60 frames per second\n",
    "    clock.tick(60)\n",
    " \n",
    "    # Go ahead and update the screen with what we've drawn.\n",
    "    pygame.display.flip()\n",
    " \n",
    "# Be IDLE friendly. If you forget this line, the program will 'hang'\n",
    "# on exit.\n",
    "pygame.quit()\n"
   ]
  },
  {
   "cell_type": "code",
   "execution_count": 3,
   "metadata": {},
   "outputs": [
    {
     "name": "stdout",
     "output_type": "stream",
     "text": [
      " ---  ---  ---  ---  --- \n"
     ]
    }
   ],
   "source": []
  },
  {
   "cell_type": "code",
   "execution_count": 4,
   "metadata": {},
   "outputs": [
    {
     "name": "stdout",
     "output_type": "stream",
     "text": [
      "|   |   |   |   |   |   \n"
     ]
    }
   ],
   "source": []
  },
  {
   "cell_type": "code",
   "execution_count": null,
   "metadata": {},
   "outputs": [],
   "source": [
    " "
   ]
  },
  {
   "cell_type": "code",
   "execution_count": 30,
   "metadata": {},
   "outputs": [
    {
     "name": "stdout",
     "output_type": "stream",
     "text": [
      " --- --- --- \n",
      "|   |   |   |\n",
      " --- --- --- \n",
      "|   |   |   |\n",
      " --- --- --- \n",
      "|   |   |   |\n",
      " --- --- --- \n"
     ]
    }
   ],
   "source": []
  },
  {
   "cell_type": "code",
   "execution_count": 33,
   "metadata": {},
   "outputs": [
    {
     "ename": "SyntaxError",
     "evalue": "Missing parentheses in call to 'print'. Did you mean print(...)? (2831060214.py, line 10)",
     "output_type": "error",
     "traceback": [
      "\u001b[1;36m  Input \u001b[1;32mIn [33]\u001b[1;36m\u001b[0m\n\u001b[1;33m    print ho\u001b[0m\n\u001b[1;37m    ^\u001b[0m\n\u001b[1;31mSyntaxError\u001b[0m\u001b[1;31m:\u001b[0m Missing parentheses in call to 'print'. Did you mean print(...)?\n"
     ]
    }
   ],
   "source": []
  }
 ],
 "metadata": {
  "kernelspec": {
   "display_name": "Python 3.10.4 64-bit",
   "language": "python",
   "name": "python3"
  },
  "language_info": {
   "codemirror_mode": {
    "name": "ipython",
    "version": 3
   },
   "file_extension": ".py",
   "mimetype": "text/x-python",
   "name": "python",
   "nbconvert_exporter": "python",
   "pygments_lexer": "ipython3",
   "version": "3.10.4"
  },
  "orig_nbformat": 4,
  "vscode": {
   "interpreter": {
    "hash": "12dcd3c42cebf00fe2b37703d2e91e3fc51a1db754e29204822c94201714bf48"
   }
  }
 },
 "nbformat": 4,
 "nbformat_minor": 2
}
