{
 "cells": [
  {
   "cell_type": "code",
   "execution_count": 5,
   "metadata": {},
   "outputs": [
    {
     "name": "stdout",
     "output_type": "stream",
     "text": [
      "pygame 2.1.2 (SDL 2.0.18, Python 3.10.4)\n",
      "Hello from the pygame community. https://www.pygame.org/contribute.html\n"
     ]
    }
   ],
   "source": [
    "# Importieren der Pygame-Bibliothek\n",
    "import pygame, sys, time, random\n",
    "from pygame.locals import *\n",
    "\n",
    "# unser Multiplikator \n",
    "MULTIPLIKATOR = 20\n",
    "\n",
    "# Spielfeld erzeugen über Berechnung\n",
    "fenster = pygame.display.set_mode((20 * MULTIPLIKATOR, 30 * MULTIPLIKATOR))\n",
    "\n",
    "# Titel für Fensterkopf\n",
    "pygame.display.set_caption(\"Breakout in Python\")\n",
    "spielaktiv = True\n",
    "\n",
    "# Bildschirm Aktualisierungen einstellen\n",
    "clock = pygame.time.Clock()\n",
    "\n",
    "# genutzte Farben\n",
    "ORANGE  = ( 255, 140,   0)\n",
    "SCHWARZ = (   0,   0,   0)\n",
    "WEISS   = ( 255, 255, 255)"
   ]
  },
  {
   "cell_type": "code",
   "execution_count": 10,
   "metadata": {},
   "outputs": [
    {
     "ename": "KeyboardInterrupt",
     "evalue": "",
     "output_type": "error",
     "traceback": [
      "\u001b[1;31m---------------------------------------------------------------------------\u001b[0m",
      "\u001b[1;31mKeyboardInterrupt\u001b[0m                         Traceback (most recent call last)",
      "\u001b[1;32me:\\Code\\Cathedral\\cathedral-master\\Feld.ipynb Zelle 2\u001b[0m in \u001b[0;36m<cell line: 38>\u001b[1;34m()\u001b[0m\n\u001b[0;32m     <a href='vscode-notebook-cell:/e%3A/Code/Cathedral/cathedral-master/Feld.ipynb#W0sZmlsZQ%3D%3D?line=45'>46</a>\u001b[0m     pygame\u001b[39m.\u001b[39mdisplay\u001b[39m.\u001b[39mflip()\n\u001b[0;32m     <a href='vscode-notebook-cell:/e%3A/Code/Cathedral/cathedral-master/Feld.ipynb#W0sZmlsZQ%3D%3D?line=47'>48</a>\u001b[0m     \u001b[39m# Refresh-Zeiten festlegen\u001b[39;00m\n\u001b[1;32m---> <a href='vscode-notebook-cell:/e%3A/Code/Cathedral/cathedral-master/Feld.ipynb#W0sZmlsZQ%3D%3D?line=48'>49</a>\u001b[0m     clock\u001b[39m.\u001b[39;49mtick(\u001b[39m10\u001b[39;49m)\n\u001b[0;32m     <a href='vscode-notebook-cell:/e%3A/Code/Cathedral/cathedral-master/Feld.ipynb#W0sZmlsZQ%3D%3D?line=50'>51</a>\u001b[0m pygame\u001b[39m.\u001b[39mquit()\n",
      "\u001b[1;31mKeyboardInterrupt\u001b[0m: "
     ]
    },
    {
     "ename": "",
     "evalue": "",
     "output_type": "error",
     "traceback": [
      "\u001b[1;31mDer Kernel ist beim Ausführen von Code in der aktuellen Zelle oder einer vorherigen Zelle abgestürzt. Bitte überprüfen Sie den Code in der/den Zelle(n), um eine mögliche Fehlerursache zu identifizieren. Klicken Sie <a href='https://aka.ms/vscodeJupyterKernelCrash'>hier</a>, um weitere Informationen zu erhalten. Weitere Details finden Sie in Jupyter <a href='command:jupyter.viewOutput'>log</a>."
     ]
    }
   ],
   "source": [
    "# Spielfeld mit Mauersteinen \n",
    "karte=[\n",
    "[0,0,0,0,0,0,0,0,0,0],\n",
    "[0,0,0,0,0,0,1,1,1,1],\n",
    "[0,0,0,0,1,1,1,1,1,1],\n",
    "[0,0,0,1,1,1,1,1,1,1],\n",
    "[0,0,1,1,1,1,1,1,1,1],\n",
    "[0,1,1,1,1,1,0,0,1,1],\n",
    "[0,1,1,1,1,1,0,0,1,1],\n",
    "[0,1,1,1,1,1,1,1,1,1],\n",
    "[0,1,1,1,1,1,1,1,1,1],\n",
    "[0,1,1,1,1,1,1,1,1,1]\n",
    "] \n",
    "\n",
    "\n",
    "fieldSizeX = 10\n",
    "fieldSizeY = 10\n",
    "\n",
    "# Hintergrundfarbe Fenster\n",
    "fenster.fill(WEISS)\n",
    "\n",
    "# Korrekturfaktor berechnen\n",
    "def kor(zahl):\n",
    "    zahl = zahl * MULTIPLIKATOR\n",
    "    return zahl\n",
    "\n",
    "# Spielelement zeichnen\n",
    "def element_zeichnen(spalte,reihe):\n",
    "    pygame.draw.rect(fenster, ORANGE, [kor(spalte)+1, kor(reihe)+1,kor(1)-1,kor(1)-1])\n",
    "\n",
    "# Ausgabe Mauersteine im Spielfenster\n",
    "for x in range(0,fieldSizeX):\n",
    "    for y in range(0,fieldSizeY):\n",
    "        if karte[y][x] != 0:\n",
    "            element_zeichnen(x,y)\n",
    "\n",
    "# Schleife Hauptprogramm\n",
    "while spielaktiv:\n",
    "    # Überprüfen, ob Nutzer eine Aktion durchgeführt hat\n",
    "    for event in pygame.event.get():\n",
    "        if event.type == pygame.QUIT or event.type == pygame.KEYDOWN and event.key == pygame.K_ESCAPE:\n",
    "            spielaktiv = False\n",
    "            print(\"Spieler hat beendet\")\n",
    "\n",
    "    # Fenster aktualisieren\n",
    "    pygame.display.flip()\n",
    "\n",
    "    # Refresh-Zeiten festlegen\n",
    "    clock.tick(10)\n",
    "\n",
    "pygame.quit()"
   ]
  },
  {
   "cell_type": "code",
   "execution_count": 1,
   "metadata": {},
   "outputs": [
    {
     "name": "stdout",
     "output_type": "stream",
     "text": [
      "[[0, 0, 0, 0, 0, 0, 0, 0, 0, 0], [0, 0, 0, 0, 0, 0, 1, 1, 1, 1], [0, 0, 0, 0, 1, 1, 1, 1, 1, 1], [0, 0, 0, 1, 1, 1, 1, 1, 1, 1], [0, 0, 1, 1, 1, 1, 1, 1, 1, 1], [0, 1, 1, 1, 1, 1, 0, 0, 1, 1], [0, 1, 1, 1, 1, 1, 0, 0, 1, 1], [0, 1, 1, 1, 1, 1, 1, 1, 1, 1], [0, 1, 1, 1, 1, 1, 1, 1, 1, 1], [0, 1, 1, 1, 1, 1, 1, 1, 1, 1]]\n"
     ]
    }
   ],
   "source": [
    "# Spielfeld mit Mauersteinen \n",
    "karte=[\n",
    "[0,0,0,0,0,0,0,0,0,0],\n",
    "[0,0,0,0,0,0,1,1,1,1],\n",
    "[0,0,0,0,1,1,1,1,1,1],\n",
    "[0,0,0,1,1,1,1,1,1,1],\n",
    "[0,0,1,1,1,1,1,1,1,1],\n",
    "[0,1,1,1,1,1,0,0,1,1],\n",
    "[0,1,1,1,1,1,0,0,1,1],\n",
    "[0,1,1,1,1,1,1,1,1,1],\n",
    "[0,1,1,1,1,1,1,1,1,1],\n",
    "[0,1,1,1,1,1,1,1,1,1]\n",
    "] \n",
    "\n",
    "\n",
    "fieldSizeX = 10\n",
    "fieldSizeY = 10\n"
   ]
  },
  {
   "cell_type": "code",
   "execution_count": 5,
   "metadata": {},
   "outputs": [],
   "source": [
    "\n",
    "\n"
   ]
  },
  {
   "cell_type": "code",
   "execution_count": 7,
   "metadata": {},
   "outputs": [
    {
     "name": "stdout",
     "output_type": "stream",
     "text": [
      "[[1], [1]]\n"
     ]
    }
   ],
   "source": []
  },
  {
   "cell_type": "code",
   "execution_count": null,
   "metadata": {},
   "outputs": [],
   "source": []
  }
 ],
 "metadata": {
  "kernelspec": {
   "display_name": "Python 3.10.4 64-bit",
   "language": "python",
   "name": "python3"
  },
  "language_info": {
   "codemirror_mode": {
    "name": "ipython",
    "version": 3
   },
   "file_extension": ".py",
   "mimetype": "text/x-python",
   "name": "python",
   "nbconvert_exporter": "python",
   "pygments_lexer": "ipython3",
   "version": "3.10.4"
  },
  "orig_nbformat": 4,
  "vscode": {
   "interpreter": {
    "hash": "12dcd3c42cebf00fe2b37703d2e91e3fc51a1db754e29204822c94201714bf48"
   }
  }
 },
 "nbformat": 4,
 "nbformat_minor": 2
}
